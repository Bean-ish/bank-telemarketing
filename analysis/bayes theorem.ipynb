{
 "cells": [
  {
   "cell_type": "code",
   "execution_count": 54,
   "id": "359dd0bf",
   "metadata": {},
   "outputs": [],
   "source": [
    "import numpy as np\n",
    "import pandas as pd\n"
   ]
  },
  {
   "cell_type": "code",
   "execution_count": 3,
   "id": "0190aa02",
   "metadata": {},
   "outputs": [],
   "source": [
    "df = pd.read_csv('C:/Users/栗寻/Desktop/RPI/6100 Foundation of DS/assignments/presentation/bank marketing/bank-additional-full.csv', sep=';')"
   ]
  },
  {
   "cell_type": "code",
   "execution_count": 5,
   "id": "255b631e",
   "metadata": {},
   "outputs": [
    {
     "data": {
      "text/html": [
       "<div>\n",
       "<style scoped>\n",
       "    .dataframe tbody tr th:only-of-type {\n",
       "        vertical-align: middle;\n",
       "    }\n",
       "\n",
       "    .dataframe tbody tr th {\n",
       "        vertical-align: top;\n",
       "    }\n",
       "\n",
       "    .dataframe thead th {\n",
       "        text-align: right;\n",
       "    }\n",
       "</style>\n",
       "<table border=\"1\" class=\"dataframe\">\n",
       "  <thead>\n",
       "    <tr style=\"text-align: right;\">\n",
       "      <th></th>\n",
       "      <th>age</th>\n",
       "      <th>job</th>\n",
       "      <th>marital</th>\n",
       "      <th>education</th>\n",
       "      <th>default</th>\n",
       "      <th>housing</th>\n",
       "      <th>loan</th>\n",
       "      <th>contact</th>\n",
       "      <th>month</th>\n",
       "      <th>day_of_week</th>\n",
       "      <th>...</th>\n",
       "      <th>campaign</th>\n",
       "      <th>pdays</th>\n",
       "      <th>previous</th>\n",
       "      <th>poutcome</th>\n",
       "      <th>emp.var.rate</th>\n",
       "      <th>cons.price.idx</th>\n",
       "      <th>cons.conf.idx</th>\n",
       "      <th>euribor3m</th>\n",
       "      <th>nr.employed</th>\n",
       "      <th>y</th>\n",
       "    </tr>\n",
       "  </thead>\n",
       "  <tbody>\n",
       "    <tr>\n",
       "      <th>0</th>\n",
       "      <td>56</td>\n",
       "      <td>housemaid</td>\n",
       "      <td>married</td>\n",
       "      <td>basic.4y</td>\n",
       "      <td>no</td>\n",
       "      <td>no</td>\n",
       "      <td>no</td>\n",
       "      <td>telephone</td>\n",
       "      <td>may</td>\n",
       "      <td>mon</td>\n",
       "      <td>...</td>\n",
       "      <td>1</td>\n",
       "      <td>999</td>\n",
       "      <td>0</td>\n",
       "      <td>nonexistent</td>\n",
       "      <td>1.1</td>\n",
       "      <td>93.994</td>\n",
       "      <td>-36.4</td>\n",
       "      <td>4.857</td>\n",
       "      <td>5191.0</td>\n",
       "      <td>no</td>\n",
       "    </tr>\n",
       "    <tr>\n",
       "      <th>1</th>\n",
       "      <td>57</td>\n",
       "      <td>services</td>\n",
       "      <td>married</td>\n",
       "      <td>high.school</td>\n",
       "      <td>unknown</td>\n",
       "      <td>no</td>\n",
       "      <td>no</td>\n",
       "      <td>telephone</td>\n",
       "      <td>may</td>\n",
       "      <td>mon</td>\n",
       "      <td>...</td>\n",
       "      <td>1</td>\n",
       "      <td>999</td>\n",
       "      <td>0</td>\n",
       "      <td>nonexistent</td>\n",
       "      <td>1.1</td>\n",
       "      <td>93.994</td>\n",
       "      <td>-36.4</td>\n",
       "      <td>4.857</td>\n",
       "      <td>5191.0</td>\n",
       "      <td>no</td>\n",
       "    </tr>\n",
       "    <tr>\n",
       "      <th>2</th>\n",
       "      <td>37</td>\n",
       "      <td>services</td>\n",
       "      <td>married</td>\n",
       "      <td>high.school</td>\n",
       "      <td>no</td>\n",
       "      <td>yes</td>\n",
       "      <td>no</td>\n",
       "      <td>telephone</td>\n",
       "      <td>may</td>\n",
       "      <td>mon</td>\n",
       "      <td>...</td>\n",
       "      <td>1</td>\n",
       "      <td>999</td>\n",
       "      <td>0</td>\n",
       "      <td>nonexistent</td>\n",
       "      <td>1.1</td>\n",
       "      <td>93.994</td>\n",
       "      <td>-36.4</td>\n",
       "      <td>4.857</td>\n",
       "      <td>5191.0</td>\n",
       "      <td>no</td>\n",
       "    </tr>\n",
       "    <tr>\n",
       "      <th>3</th>\n",
       "      <td>40</td>\n",
       "      <td>admin.</td>\n",
       "      <td>married</td>\n",
       "      <td>basic.6y</td>\n",
       "      <td>no</td>\n",
       "      <td>no</td>\n",
       "      <td>no</td>\n",
       "      <td>telephone</td>\n",
       "      <td>may</td>\n",
       "      <td>mon</td>\n",
       "      <td>...</td>\n",
       "      <td>1</td>\n",
       "      <td>999</td>\n",
       "      <td>0</td>\n",
       "      <td>nonexistent</td>\n",
       "      <td>1.1</td>\n",
       "      <td>93.994</td>\n",
       "      <td>-36.4</td>\n",
       "      <td>4.857</td>\n",
       "      <td>5191.0</td>\n",
       "      <td>no</td>\n",
       "    </tr>\n",
       "    <tr>\n",
       "      <th>4</th>\n",
       "      <td>56</td>\n",
       "      <td>services</td>\n",
       "      <td>married</td>\n",
       "      <td>high.school</td>\n",
       "      <td>no</td>\n",
       "      <td>no</td>\n",
       "      <td>yes</td>\n",
       "      <td>telephone</td>\n",
       "      <td>may</td>\n",
       "      <td>mon</td>\n",
       "      <td>...</td>\n",
       "      <td>1</td>\n",
       "      <td>999</td>\n",
       "      <td>0</td>\n",
       "      <td>nonexistent</td>\n",
       "      <td>1.1</td>\n",
       "      <td>93.994</td>\n",
       "      <td>-36.4</td>\n",
       "      <td>4.857</td>\n",
       "      <td>5191.0</td>\n",
       "      <td>no</td>\n",
       "    </tr>\n",
       "    <tr>\n",
       "      <th>5</th>\n",
       "      <td>45</td>\n",
       "      <td>services</td>\n",
       "      <td>married</td>\n",
       "      <td>basic.9y</td>\n",
       "      <td>unknown</td>\n",
       "      <td>no</td>\n",
       "      <td>no</td>\n",
       "      <td>telephone</td>\n",
       "      <td>may</td>\n",
       "      <td>mon</td>\n",
       "      <td>...</td>\n",
       "      <td>1</td>\n",
       "      <td>999</td>\n",
       "      <td>0</td>\n",
       "      <td>nonexistent</td>\n",
       "      <td>1.1</td>\n",
       "      <td>93.994</td>\n",
       "      <td>-36.4</td>\n",
       "      <td>4.857</td>\n",
       "      <td>5191.0</td>\n",
       "      <td>no</td>\n",
       "    </tr>\n",
       "    <tr>\n",
       "      <th>6</th>\n",
       "      <td>59</td>\n",
       "      <td>admin.</td>\n",
       "      <td>married</td>\n",
       "      <td>professional.course</td>\n",
       "      <td>no</td>\n",
       "      <td>no</td>\n",
       "      <td>no</td>\n",
       "      <td>telephone</td>\n",
       "      <td>may</td>\n",
       "      <td>mon</td>\n",
       "      <td>...</td>\n",
       "      <td>1</td>\n",
       "      <td>999</td>\n",
       "      <td>0</td>\n",
       "      <td>nonexistent</td>\n",
       "      <td>1.1</td>\n",
       "      <td>93.994</td>\n",
       "      <td>-36.4</td>\n",
       "      <td>4.857</td>\n",
       "      <td>5191.0</td>\n",
       "      <td>no</td>\n",
       "    </tr>\n",
       "    <tr>\n",
       "      <th>7</th>\n",
       "      <td>41</td>\n",
       "      <td>blue-collar</td>\n",
       "      <td>married</td>\n",
       "      <td>unknown</td>\n",
       "      <td>unknown</td>\n",
       "      <td>no</td>\n",
       "      <td>no</td>\n",
       "      <td>telephone</td>\n",
       "      <td>may</td>\n",
       "      <td>mon</td>\n",
       "      <td>...</td>\n",
       "      <td>1</td>\n",
       "      <td>999</td>\n",
       "      <td>0</td>\n",
       "      <td>nonexistent</td>\n",
       "      <td>1.1</td>\n",
       "      <td>93.994</td>\n",
       "      <td>-36.4</td>\n",
       "      <td>4.857</td>\n",
       "      <td>5191.0</td>\n",
       "      <td>no</td>\n",
       "    </tr>\n",
       "    <tr>\n",
       "      <th>8</th>\n",
       "      <td>24</td>\n",
       "      <td>technician</td>\n",
       "      <td>single</td>\n",
       "      <td>professional.course</td>\n",
       "      <td>no</td>\n",
       "      <td>yes</td>\n",
       "      <td>no</td>\n",
       "      <td>telephone</td>\n",
       "      <td>may</td>\n",
       "      <td>mon</td>\n",
       "      <td>...</td>\n",
       "      <td>1</td>\n",
       "      <td>999</td>\n",
       "      <td>0</td>\n",
       "      <td>nonexistent</td>\n",
       "      <td>1.1</td>\n",
       "      <td>93.994</td>\n",
       "      <td>-36.4</td>\n",
       "      <td>4.857</td>\n",
       "      <td>5191.0</td>\n",
       "      <td>no</td>\n",
       "    </tr>\n",
       "    <tr>\n",
       "      <th>9</th>\n",
       "      <td>25</td>\n",
       "      <td>services</td>\n",
       "      <td>single</td>\n",
       "      <td>high.school</td>\n",
       "      <td>no</td>\n",
       "      <td>yes</td>\n",
       "      <td>no</td>\n",
       "      <td>telephone</td>\n",
       "      <td>may</td>\n",
       "      <td>mon</td>\n",
       "      <td>...</td>\n",
       "      <td>1</td>\n",
       "      <td>999</td>\n",
       "      <td>0</td>\n",
       "      <td>nonexistent</td>\n",
       "      <td>1.1</td>\n",
       "      <td>93.994</td>\n",
       "      <td>-36.4</td>\n",
       "      <td>4.857</td>\n",
       "      <td>5191.0</td>\n",
       "      <td>no</td>\n",
       "    </tr>\n",
       "  </tbody>\n",
       "</table>\n",
       "<p>10 rows × 21 columns</p>\n",
       "</div>"
      ],
      "text/plain": [
       "   age          job  marital            education  default housing loan  \\\n",
       "0   56    housemaid  married             basic.4y       no      no   no   \n",
       "1   57     services  married          high.school  unknown      no   no   \n",
       "2   37     services  married          high.school       no     yes   no   \n",
       "3   40       admin.  married             basic.6y       no      no   no   \n",
       "4   56     services  married          high.school       no      no  yes   \n",
       "5   45     services  married             basic.9y  unknown      no   no   \n",
       "6   59       admin.  married  professional.course       no      no   no   \n",
       "7   41  blue-collar  married              unknown  unknown      no   no   \n",
       "8   24   technician   single  professional.course       no     yes   no   \n",
       "9   25     services   single          high.school       no     yes   no   \n",
       "\n",
       "     contact month day_of_week  ...  campaign  pdays  previous     poutcome  \\\n",
       "0  telephone   may         mon  ...         1    999         0  nonexistent   \n",
       "1  telephone   may         mon  ...         1    999         0  nonexistent   \n",
       "2  telephone   may         mon  ...         1    999         0  nonexistent   \n",
       "3  telephone   may         mon  ...         1    999         0  nonexistent   \n",
       "4  telephone   may         mon  ...         1    999         0  nonexistent   \n",
       "5  telephone   may         mon  ...         1    999         0  nonexistent   \n",
       "6  telephone   may         mon  ...         1    999         0  nonexistent   \n",
       "7  telephone   may         mon  ...         1    999         0  nonexistent   \n",
       "8  telephone   may         mon  ...         1    999         0  nonexistent   \n",
       "9  telephone   may         mon  ...         1    999         0  nonexistent   \n",
       "\n",
       "  emp.var.rate  cons.price.idx  cons.conf.idx  euribor3m  nr.employed   y  \n",
       "0          1.1          93.994          -36.4      4.857       5191.0  no  \n",
       "1          1.1          93.994          -36.4      4.857       5191.0  no  \n",
       "2          1.1          93.994          -36.4      4.857       5191.0  no  \n",
       "3          1.1          93.994          -36.4      4.857       5191.0  no  \n",
       "4          1.1          93.994          -36.4      4.857       5191.0  no  \n",
       "5          1.1          93.994          -36.4      4.857       5191.0  no  \n",
       "6          1.1          93.994          -36.4      4.857       5191.0  no  \n",
       "7          1.1          93.994          -36.4      4.857       5191.0  no  \n",
       "8          1.1          93.994          -36.4      4.857       5191.0  no  \n",
       "9          1.1          93.994          -36.4      4.857       5191.0  no  \n",
       "\n",
       "[10 rows x 21 columns]"
      ]
     },
     "execution_count": 5,
     "metadata": {},
     "output_type": "execute_result"
    }
   ],
   "source": [
    "df.head(10)"
   ]
  },
  {
   "cell_type": "code",
   "execution_count": 23,
   "id": "380cdae8",
   "metadata": {},
   "outputs": [
    {
     "data": {
      "text/plain": [
       "41188"
      ]
     },
     "execution_count": 23,
     "metadata": {},
     "output_type": "execute_result"
    }
   ],
   "source": [
    "len(df)"
   ]
  },
  {
   "cell_type": "code",
   "execution_count": 65,
   "id": "886ec28a",
   "metadata": {},
   "outputs": [
    {
     "data": {
      "text/plain": [
       "admin.           10422\n",
       "blue-collar       9254\n",
       "technician        6743\n",
       "services          3969\n",
       "management        2924\n",
       "retired           1720\n",
       "entrepreneur      1456\n",
       "self-employed     1421\n",
       "housemaid         1060\n",
       "unemployed        1014\n",
       "student            875\n",
       "unknown            330\n",
       "Name: job, dtype: int64"
      ]
     },
     "execution_count": 65,
     "metadata": {},
     "output_type": "execute_result"
    }
   ],
   "source": [
    "df['job'].value_counts()"
   ]
  },
  {
   "cell_type": "code",
   "execution_count": null,
   "id": "f2e41144",
   "metadata": {},
   "outputs": [],
   "source": []
  },
  {
   "cell_type": "code",
   "execution_count": null,
   "id": "a5c8e131",
   "metadata": {},
   "outputs": [],
   "source": []
  },
  {
   "cell_type": "code",
   "execution_count": null,
   "id": "40d66549",
   "metadata": {},
   "outputs": [],
   "source": []
  },
  {
   "cell_type": "code",
   "execution_count": null,
   "id": "91fb5fc4",
   "metadata": {},
   "outputs": [],
   "source": []
  },
  {
   "cell_type": "code",
   "execution_count": 49,
   "id": "6aa9380d",
   "metadata": {},
   "outputs": [
    {
     "name": "stdout",
     "output_type": "stream",
     "text": [
      "P(fail): 0.8873\n",
      "P(Success): 0.1127\n"
     ]
    }
   ],
   "source": [
    "P_0 = round(len(df.loc[(df['y']=='no')])/len(df),4)\n",
    "P_1 = round(len(df.loc[(df['y']=='yes')])/len(df),4)\n",
    "print('P(fail):', P_0)\n",
    "print('P(Success):', P_1)"
   ]
  },
  {
   "cell_type": "code",
   "execution_count": 7,
   "id": "31c76860",
   "metadata": {
    "scrolled": true
   },
   "outputs": [
    {
     "data": {
      "text/plain": [
       "married     24928\n",
       "single      11568\n",
       "divorced     4612\n",
       "unknown        80\n",
       "Name: marital, dtype: int64"
      ]
     },
     "execution_count": 7,
     "metadata": {},
     "output_type": "execute_result"
    }
   ],
   "source": [
    "df['marital'].value_counts()"
   ]
  },
  {
   "cell_type": "code",
   "execution_count": 62,
   "id": "020904ba",
   "metadata": {},
   "outputs": [
    {
     "name": "stdout",
     "output_type": "stream",
     "text": [
      "P(Married and fail): 0.5438\n",
      "P(Married and success): 0.0615\n",
      "P(Married): 0.6052\n",
      "-----\n",
      "P(Single and fail): 0.2415\n",
      "P(Single and success): 0.0393\n",
      "P(Single): 0.2809\n",
      "-----\n",
      "P(Divorced and fail): 0.1004\n",
      "P(Divorced and success): 0.0116\n",
      "P(Divorced): 0.112\n",
      "-----\n",
      "P(Unknown and fail): 0.0017\n",
      "P(Unknown and success): 0.0003\n",
      "P(Unknown): 0.0019\n"
     ]
    }
   ],
   "source": [
    "# marginal probability and joint probability regarding marital status\n",
    "\n",
    "m_0 = len(df.loc[(df['y']=='no') & (df['marital']=='married')])\n",
    "m_1 = len(df.loc[(df['y']=='yes') & (df['marital']=='married')])\n",
    "P_m_0 = m_0/len(df)\n",
    "P_m_1 = m_1/len(df)\n",
    "P_m = (m_0+m_1)/len(df)\n",
    "print(\"P(Married and fail):\", round(P_m_0,4))\n",
    "print(\"P(Married and success):\", round(P_m_1,4))\n",
    "print(\"P(Married):\", round(P_m, 4))\n",
    "print('-----')\n",
    "\n",
    "s_0 = len(df.loc[(df['y']=='no') & (df['marital']=='single')])\n",
    "s_1 = len(df.loc[(df['y']=='yes') & (df['marital']=='single')])\n",
    "P_s_0 = s_0/len(df)\n",
    "P_s_1 = s_1/len(df)\n",
    "P_s = (s_0+s_1)/len(df)\n",
    "print(\"P(Single and fail):\", round(P_s_0,4))\n",
    "print(\"P(Single and success):\", round(P_s_1,4))\n",
    "print(\"P(Single):\", round(P_s, 4))\n",
    "print('-----')\n",
    "\n",
    "d_0 = len(df.loc[(df['y']=='no') & (df['marital']=='divorced')])\n",
    "d_1 = len(df.loc[(df['y']=='yes') & (df['marital']=='divorced')])\n",
    "P_d_0 = d_0/len(df)\n",
    "P_d_1 = d_1/len(df)\n",
    "P_d = (d_0+d_1)/len(df)\n",
    "print(\"P(Divorced and fail):\", round(P_d_0,4))\n",
    "print(\"P(Divorced and success):\", round(P_d_1,4))\n",
    "print(\"P(Divorced):\", round(P_d, 4))\n",
    "print('-----')\n",
    "\n",
    "u_0 = len(df.loc[(df['y']=='no') & (df['marital']=='unknown')])\n",
    "u_1 = len(df.loc[(df['y']=='yes') & (df['marital']=='unknown')])\n",
    "P_u_0 = u_0/len(df)\n",
    "P_u_1 = u_1/len(df)\n",
    "P_u = (u_0+u_1)/len(df)\n",
    "print(\"P(Unknown and fail):\", round(P_u_0,4))\n",
    "print(\"P(Unknown and success):\", round(P_u_1,4))\n",
    "print(\"P(Unknown):\", round(P_u, 4))\n"
   ]
  },
  {
   "cell_type": "code",
   "execution_count": 58,
   "id": "f3db10e7",
   "metadata": {},
   "outputs": [
    {
     "name": "stdout",
     "output_type": "stream",
     "text": [
      "P(success|married): 0.1016\n",
      "P(fail|married): 0.8984\n",
      "-----\n",
      "P(success|single): 0.14\n",
      "P(fail|single): 0.86\n",
      "-----\n",
      "P(success|divorced): 0.1032\n",
      "P(fail|divorced): 0.8968\n"
     ]
    }
   ],
   "source": [
    "# use Bayes theorem, solve for posterior probabilities\n",
    "\n",
    "P_1_gm = P_m_1/P_m\n",
    "P_0_gm = P_m_0/P_m\n",
    "print(\"P(success|married):\",round(P_1_gm,4))\n",
    "print(\"P(fail|married):\",round(P_0_gm,4))\n",
    "print('-----')\n",
    "\n",
    "P_1_gs = P_s_1/P_s\n",
    "P_0_gs = P_s_0/P_s\n",
    "print(\"P(success|single):\",round(P_1_gs,4))\n",
    "print(\"P(fail|single):\",round(P_0_gs,4))\n",
    "print('-----')\n",
    "\n",
    "P_1_gd = P_d_1/P_d\n",
    "P_0_gd = P_d_0/P_d\n",
    "print(\"P(success|divorced):\",round(P_1_gd,4))\n",
    "print(\"P(fail|divorced):\",round(P_0_gd,4))"
   ]
  },
  {
   "cell_type": "code",
   "execution_count": null,
   "id": "3eac254b",
   "metadata": {},
   "outputs": [],
   "source": []
  },
  {
   "cell_type": "code",
   "execution_count": 8,
   "id": "130cac52",
   "metadata": {},
   "outputs": [
    {
     "data": {
      "text/plain": [
       "no         33950\n",
       "yes         6248\n",
       "unknown      990\n",
       "Name: loan, dtype: int64"
      ]
     },
     "execution_count": 8,
     "metadata": {},
     "output_type": "execute_result"
    }
   ],
   "source": [
    "df['loan'].value_counts()"
   ]
  },
  {
   "cell_type": "code",
   "execution_count": 50,
   "id": "6ad8c5ed",
   "metadata": {},
   "outputs": [
    {
     "name": "stdout",
     "output_type": "stream",
     "text": [
      "P(have personal loan and fail): 0.1351\n",
      "P(have personal loan and success): 0.0166\n",
      "P(have personal loan): 0.1517\n",
      "-----\n",
      "P(don't have personal loan and fail): 0.7308\n",
      "P(don't have personal loan and success): 0.0935\n",
      "P(don't have personal loan): 0.8243\n",
      "-----\n",
      "P(loan unknown and fail): 0.0214\n",
      "P(loan unknown and success): 0.0026\n",
      "P(loan unknown): 0.024\n"
     ]
    }
   ],
   "source": [
    "# marginal probability and joint probability regarding personal loan\n",
    "\n",
    "ly_0 = len(df.loc[(df['y']=='no') & (df['loan']=='yes')])\n",
    "ly_1 = len(df.loc[(df['y']=='yes') & (df['loan']=='yes')])\n",
    "P_ly_0 = ly_0/len(df)\n",
    "P_ly_1 = ly_1/len(df)\n",
    "P_ly = (ly_0+ly_1)/len(df)\n",
    "print(\"P(have personal loan and fail):\", round(P_ly_0,4))\n",
    "print(\"P(have personal loan and success):\", round(P_ly_1,4))\n",
    "print(\"P(have personal loan):\", round(P_ly, 4))\n",
    "print('-----')\n",
    "\n",
    "ln_0 = len(df.loc[(df['y']=='no') & (df['loan']=='no')])\n",
    "ln_1 = len(df.loc[(df['y']=='yes') & (df['loan']=='no')])\n",
    "P_ln_0 = ln_0/len(df)\n",
    "P_ln_1 = ln_1/len(df)\n",
    "P_ln = (ln_0+ln_1)/len(df)\n",
    "print(\"P(don't have personal loan and fail):\", round(P_ln_0,4))\n",
    "print(\"P(don't have personal loan and success):\", round(P_ln_1,4))\n",
    "print(\"P(don't have personal loan):\", round(P_ln, 4))\n",
    "print('-----')\n",
    "\n",
    "lu_0 = len(df.loc[(df['y']=='no') & (df['loan']=='unknown')])\n",
    "lu_1 = len(df.loc[(df['y']=='yes') & (df['loan']=='unknown')])\n",
    "P_lu_0 = lu_0/len(df)\n",
    "P_lu_1 = lu_1/len(df)\n",
    "P_lu = (lu_0+lu_1)/len(df)\n",
    "print(\"P(loan unknown and fail):\", round(P_lu_0,4))\n",
    "print(\"P(loan unknown and success):\", round(P_lu_1,4))\n",
    "print(\"P(loan unknown):\", round(P_lu, 4))"
   ]
  },
  {
   "cell_type": "code",
   "execution_count": 60,
   "id": "9d2d4e91",
   "metadata": {},
   "outputs": [
    {
     "name": "stdout",
     "output_type": "stream",
     "text": [
      "P(success|have personal loan): 0.1093\n",
      "P(fail|have personal loan): 0.8907\n",
      "-----\n",
      "P(success|have personal loan): 0.1134\n",
      "P(fail|have personal loan): 0.8866\n",
      "-----\n",
      "P(success|loan unknown): 0.1081\n",
      "P(fail|loan unknown): 0.8919\n"
     ]
    }
   ],
   "source": [
    "# use Bayes theorem, solve for posterior probabilities\n",
    "\n",
    "\n",
    "P_1_gly = P_ly_1/P_ly\n",
    "P_0_gly = P_ly_0/P_ly\n",
    "print(\"P(success|have personal loan):\",round(P_1_gly,4))\n",
    "print(\"P(fail|have personal loan):\",round(P_0_gly,4))\n",
    "print('-----')\n",
    "\n",
    "P_1_gln = P_ln_1/P_ln\n",
    "P_0_gln = P_ln_0/P_ln\n",
    "print(\"P(success|have personal loan):\",round(P_1_gln,4))\n",
    "print(\"P(fail|have personal loan):\",round(P_0_gln,4))\n",
    "print('-----')\n",
    "\n",
    "P_1_glu = P_lu_1/P_lu\n",
    "P_0_glu = P_lu_0/P_lu\n",
    "print(\"P(success|loan unknown):\",round(P_1_glu,4))\n",
    "print(\"P(fail|loan unknown):\",round(P_0_glu,4))"
   ]
  },
  {
   "cell_type": "code",
   "execution_count": null,
   "id": "3529bbb2",
   "metadata": {},
   "outputs": [],
   "source": []
  },
  {
   "cell_type": "code",
   "execution_count": 9,
   "id": "74bf1e99",
   "metadata": {},
   "outputs": [
    {
     "data": {
      "text/plain": [
       "cellular     26144\n",
       "telephone    15044\n",
       "Name: contact, dtype: int64"
      ]
     },
     "execution_count": 9,
     "metadata": {},
     "output_type": "execute_result"
    }
   ],
   "source": [
    "df['contact'].value_counts()"
   ]
  },
  {
   "cell_type": "code",
   "execution_count": 53,
   "id": "8e2fcc1b",
   "metadata": {},
   "outputs": [
    {
     "name": "stdout",
     "output_type": "stream",
     "text": [
      "P(contacted via cell and fail): 0.5412\n",
      "P(contacted via cell and success): 0.0935\n",
      "P(contacted via cell): 0.6347\n",
      "-----\n",
      "P(contacted via telephone and fail): 0.3461\n",
      "P(contacted via telephone and success): 0.0191\n",
      "P(contacted via telephone): 0.3653\n"
     ]
    }
   ],
   "source": [
    "# marginal probability and joint probability regarding contact methods\n",
    "\n",
    "c_0 = len(df.loc[(df['y']=='no') & (df['contact']=='cellular')])\n",
    "c_1 = len(df.loc[(df['y']=='yes') & (df['contact']=='cellular')])\n",
    "P_c_0 = c_0/len(df)\n",
    "P_c_1 = c_1/len(df)\n",
    "P_c = (c_0+c_1)/len(df)\n",
    "print(\"P(contacted via cell and fail):\", round(P_c_0,4))\n",
    "print(\"P(contacted via cell and success):\", round(P_c_1,4))\n",
    "print(\"P(contacted via cell):\", round(P_c, 4))\n",
    "print('-----')\n",
    "\n",
    "t_0 = len(df.loc[(df['y']=='no') & (df['contact']=='telephone')])\n",
    "t_1 = len(df.loc[(df['y']=='yes') & (df['contact']=='telephone')])\n",
    "P_t_0 = t_0/len(df)\n",
    "P_t_1 = t_1/len(df)\n",
    "P_t = (t_0+t_1)/len(df)\n",
    "print(\"P(contacted via telephone and fail):\", round(P_t_0,4))\n",
    "print(\"P(contacted via telephone and success):\", round(P_t_1,4))\n",
    "print(\"P(contacted via telephone):\", round(P_t, 4))\n"
   ]
  },
  {
   "cell_type": "code",
   "execution_count": 61,
   "id": "eee0b977",
   "metadata": {},
   "outputs": [
    {
     "name": "stdout",
     "output_type": "stream",
     "text": [
      "P(success|contacted via cell): 0.1474\n",
      "P(fail|contacted via cell): 0.8526\n",
      "-----\n",
      "P(success|contacted via telephone): 0.0523\n",
      "P(fail|contacted via telephone): 0.9477\n"
     ]
    }
   ],
   "source": [
    "# use Bayes theorem, solve for posterior probabilities\n",
    "\n",
    "P_1_gc = P_c_1/P_c\n",
    "P_0_gc = P_c_0/P_c\n",
    "print(\"P(success|contacted via cell):\",round(P_1_gc,4))\n",
    "print(\"P(fail|contacted via cell):\",round(P_0_gc,4))\n",
    "print('-----')\n",
    "\n",
    "P_1_gt = P_t_1/P_t\n",
    "P_0_gt = P_t_0/P_t\n",
    "print(\"P(success|contacted via telephone):\",round(P_1_gt,4))\n",
    "print(\"P(fail|contacted via telephone):\",round(P_0_gt,4))\n"
   ]
  },
  {
   "cell_type": "code",
   "execution_count": null,
   "id": "601e9d46",
   "metadata": {},
   "outputs": [],
   "source": []
  }
 ],
 "metadata": {
  "kernelspec": {
   "display_name": "Python 3 (ipykernel)",
   "language": "python",
   "name": "python3"
  },
  "language_info": {
   "codemirror_mode": {
    "name": "ipython",
    "version": 3
   },
   "file_extension": ".py",
   "mimetype": "text/x-python",
   "name": "python",
   "nbconvert_exporter": "python",
   "pygments_lexer": "ipython3",
   "version": "3.9.3"
  }
 },
 "nbformat": 4,
 "nbformat_minor": 5
}
